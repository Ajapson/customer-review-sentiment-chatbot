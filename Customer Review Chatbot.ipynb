{
 "cells": [
  {
   "cell_type": "code",
   "execution_count": null,
   "id": "08078478-92ef-4f0f-a537-66faed332ac8",
   "metadata": {},
   "outputs": [],
   "source": [
    "!pip install -q torch torchvision torchaudio transformers gradio openai"
   ]
  },
  {
   "cell_type": "code",
   "execution_count": 2,
   "id": "d1fef60c-d7d2-4a3c-b3df-020263fc1f15",
   "metadata": {},
   "outputs": [],
   "source": [
    "# Disable TensorFlow usage in Transformers\n",
    "import os\n",
    "os.environ[\"TRANSFORMERS_NO_TF\"] = \"1\"\n",
    "\n",
    "# Imports\n",
    "import gradio as gr\n",
    "from transformers import pipeline\n",
    "from openai import OpenAI\n",
    "\n",
    "# Set or paste your OpenAI API key here, eg \"sk-XXXXXXXXXXXXXXXXXXXXXXXX\"\n",
    "client = OpenAI(api_key=\"OPENAI_API_KEY\")"
   ]
  },
  {
   "cell_type": "code",
   "execution_count": 3,
   "id": "685ec5c5-de47-4e59-a483-c9fb1ae2fb55",
   "metadata": {},
   "outputs": [
    {
     "name": "stderr",
     "output_type": "stream",
     "text": [
      "No model was supplied, defaulted to distilbert/distilbert-base-uncased-finetuned-sst-2-english and revision 714eb0f (https://huggingface.co/distilbert/distilbert-base-uncased-finetuned-sst-2-english).\n",
      "Using a pipeline without specifying a model name and revision in production is not recommended.\n",
      "Device set to use cpu\n"
     ]
    }
   ],
   "source": [
    "# Load default sentiment analysis model (DistilBERT fine-tuned for sentiment)\n",
    "sentiment_analyzer = pipeline(\"sentiment-analysis\", framework=\"pt\")"
   ]
  },
  {
   "cell_type": "code",
   "execution_count": 4,
   "id": "a130c40b-3c7f-450a-848f-470081cca6b6",
   "metadata": {},
   "outputs": [],
   "source": [
    "def analyze_review(review_text):\n",
    "    if not review_text.strip():\n",
    "        return \"⚠️ Please enter a review.\", \"\", \"\"\n",
    "    \n",
    "    # 1️⃣ Sentiment Analysis\n",
    "    sentiment_result = sentiment_analyzer(review_text)[0]\n",
    "    label = sentiment_result['label']\n",
    "    score = round(sentiment_result['score'] * 100, 2)\n",
    "    sentiment_output = f\"{label} ({score}%)\"\n",
    "\n",
    "    # 2️⃣ AI Explanation\n",
    "    explanation_prompt = f\"Explain in one sentence why this review is {label.lower()}: {review_text}\"\n",
    "    explanation = client.chat.completions.create(\n",
    "        model=\"gpt-4o-mini\",\n",
    "        messages=[{\"role\": \"user\", \"content\": explanation_prompt}]\n",
    "    )\n",
    "    explanation_text = explanation.choices[0].message.content.strip()\n",
    "\n",
    "    # 3️⃣ AI Rephrase\n",
    "    rephrase_prompt = f\"Rephrase this review in a neutral and brand-friendly tone: {review_text}\"\n",
    "    rephrase = client.chat.completions.create(\n",
    "        model=\"gpt-4o-mini\",\n",
    "        messages=[{\"role\": \"user\", \"content\": rephrase_prompt}]\n",
    "    )\n",
    "    rephrase_text = rephrase.choices[0].message.content.strip()\n",
    "\n",
    "    return sentiment_output, explanation_text, rephrase_text"
   ]
  },
  {
   "cell_type": "code",
   "execution_count": 5,
   "id": "b1362ca7-287f-43df-b325-d7627c0c25e4",
   "metadata": {},
   "outputs": [],
   "source": [
    "with gr.Blocks() as demo:\n",
    "    gr.Markdown(\"# 🛍 Product Review Sentiment + Reasoning\")\n",
    "    gr.Markdown(\"Analyze customer reviews, explain why they are positive/negative, and rephrase them.\")\n",
    "\n",
    "    review_input = gr.Textbox(lines=5, placeholder=\"Paste your product review here...\", label=\"Customer Review\")\n",
    "    sentiment_output = gr.Label(label=\"Sentiment Result\")\n",
    "    explanation_output = gr.Textbox(label=\"AI Explanation\", interactive=False)\n",
    "    rephrase_output = gr.Textbox(label=\"Rephrased Review\", interactive=False)\n",
    "\n",
    "    analyze_button = gr.Button(\"Analyze Review\")\n",
    "\n",
    "    analyze_button.click(\n",
    "        analyze_review,\n",
    "        inputs=[review_input],\n",
    "        outputs=[sentiment_output, explanation_output, rephrase_output]\n",
    "    )"
   ]
  },
  {
   "cell_type": "code",
   "execution_count": 6,
   "id": "1329125f-f82f-4b26-9849-accf8a8b525e",
   "metadata": {},
   "outputs": [
    {
     "name": "stdout",
     "output_type": "stream",
     "text": [
      "* Running on local URL:  http://127.0.0.1:7860\n",
      "* Running on public URL: https://4a0b95d94c15db35a1.gradio.live\n",
      "\n",
      "This share link expires in 72 hours. For free permanent hosting and GPU upgrades, run `gradio deploy` from the terminal in the working directory to deploy to Hugging Face Spaces (https://huggingface.co/spaces)\n"
     ]
    },
    {
     "data": {
      "text/html": [
       "<div><iframe src=\"https://4a0b95d94c15db35a1.gradio.live\" width=\"100%\" height=\"500\" allow=\"autoplay; camera; microphone; clipboard-read; clipboard-write;\" frameborder=\"0\" allowfullscreen></iframe></div>"
      ],
      "text/plain": [
       "<IPython.core.display.HTML object>"
      ]
     },
     "metadata": {},
     "output_type": "display_data"
    },
    {
     "data": {
      "text/plain": []
     },
     "execution_count": 6,
     "metadata": {},
     "output_type": "execute_result"
    }
   ],
   "source": [
    "# Launch with share link (~72 hours)\n",
    "demo.launch(share=True)"
   ]
  },
  {
   "cell_type": "code",
   "execution_count": null,
   "id": "16046c82-2b55-43de-8ada-3efa6cc96fc8",
   "metadata": {},
   "outputs": [],
   "source": []
  }
 ],
 "metadata": {
  "kernelspec": {
   "display_name": "Python 3 (ipykernel)",
   "language": "python",
   "name": "python3"
  },
  "language_info": {
   "codemirror_mode": {
    "name": "ipython",
    "version": 3
   },
   "file_extension": ".py",
   "mimetype": "text/x-python",
   "name": "python",
   "nbconvert_exporter": "python",
   "pygments_lexer": "ipython3",
   "version": "3.11.5"
  }
 },
 "nbformat": 4,
 "nbformat_minor": 5
}
